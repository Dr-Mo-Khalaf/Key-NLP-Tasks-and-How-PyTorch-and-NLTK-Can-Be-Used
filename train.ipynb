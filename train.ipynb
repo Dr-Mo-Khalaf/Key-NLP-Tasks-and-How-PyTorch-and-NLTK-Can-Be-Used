{
 "cells": [
  {
   "cell_type": "code",
   "execution_count": 1,
   "id": "b2ea5ac8-b892-4963-bb25-73e6c375ee21",
   "metadata": {},
   "outputs": [
    {
     "name": "stderr",
     "output_type": "stream",
     "text": [
      "[nltk_data] Downloading package punkt to /home/mkh/nltk_data...\n",
      "[nltk_data]   Package punkt is already up-to-date!\n",
      "[nltk_data] Downloading package punkt_tab to /home/mkh/nltk_data...\n",
      "[nltk_data]   Package punkt_tab is already up-to-date!\n",
      "/home/ai_mkh/myenv/lib/python3.12/site-packages/tqdm/auto.py:21: TqdmWarning: IProgress not found. Please update jupyter and ipywidgets. See https://ipywidgets.readthedocs.io/en/stable/user_install.html\n",
      "  from .autonotebook import tqdm as notebook_tqdm\n"
     ]
    }
   ],
   "source": [
    "import torch\n",
    "import torch.nn as nn\n",
    "import nltk\n",
    "from torch.utils.data import Dataset, DataLoader\n",
    "### my setup\n",
    "from nltk_utils import tokenize_fn, stem_fn ,bag_of_words, train_fn , accuracy_fn\n",
    "from classes import createChatDataset\n",
    "from model import chatModel\n",
    "\n",
    "## vesuale and sense \n",
    "from tqdm.auto import tqdm\n",
    "from timeit import default_timer as timer\n",
    "device = \"cuda\" if torch.cuda.is_available() else \"cpu\""
   ]
  },
  {
   "cell_type": "code",
   "execution_count": 2,
   "id": "e9ae328d-950b-497d-8cfc-75ec1d0f6f21",
   "metadata": {},
   "outputs": [],
   "source": [
    "### load the dataset\n",
    "# Load the file with weights_only=False if you trust the source\n",
    "train_dataset = torch.load(\"train_dataset.pt\", weights_only=False)\n"
   ]
  },
  {
   "cell_type": "code",
   "execution_count": 3,
   "id": "0cda75ca-1b1b-484a-bb21-5b94055ddd8c",
   "metadata": {},
   "outputs": [
    {
     "data": {
      "text/plain": [
       "['delivery', 'funny', 'goodbye', 'greeting', 'items', 'payments', 'thanks']"
      ]
     },
     "execution_count": 3,
     "metadata": {},
     "output_type": "execute_result"
    }
   ],
   "source": [
    "classNames = train_dataset.classes\n",
    "train_dataset.classes"
   ]
  },
  {
   "cell_type": "code",
   "execution_count": null,
   "id": "050894e0-2717-435e-b2c2-865936912818",
   "metadata": {},
   "outputs": [],
   "source": []
  },
  {
   "cell_type": "code",
   "execution_count": 4,
   "id": "cf1006ac-1530-4290-aeca-9c577a533a82",
   "metadata": {},
   "outputs": [
    {
     "name": "stdout",
     "output_type": "stream",
     "text": [
      "52 7\n"
     ]
    }
   ],
   "source": [
    "epochs = 500\n",
    "BATCH_SIZE = 8  ## 1, 2, 8 ,16 , 32 , 64\n",
    "learning_rate = 0.001\n",
    "hidden_size = 8\n",
    "input_feature = len(train_dataset[0][0]) # for single sample\n",
    "out_feature = len(train_dataset.classes)\n",
    "print(input_feature, out_feature)"
   ]
  },
  {
   "cell_type": "code",
   "execution_count": 5,
   "id": "ec33fd76-c476-4175-ab8b-8f783b950b35",
   "metadata": {},
   "outputs": [],
   "source": [
    "device = torch.device('cuda' if torch.cuda.is_available() else 'cpu')\n",
    "train_dataLoader = DataLoader( dataset = train_dataset,\n",
    "                              batch_size = BATCH_SIZE,\n",
    "                              shuffle=True)"
   ]
  },
  {
   "cell_type": "code",
   "execution_count": 6,
   "id": "0cf1b564-8ab1-4d1d-b29e-95ecb7cd98aa",
   "metadata": {},
   "outputs": [],
   "source": [
    "model_1 = chatModel(input_feature=input_feature , hidden_feature=hidden_size\n",
    "                 , out_feature=out_feature)\n",
    "criterion = loss_fn = nn.CrossEntropyLoss()\n",
    "optimizer = torch.optim.Adam(model_1.parameters(),\n",
    "                             lr = learning_rate)\n"
   ]
  },
  {
   "cell_type": "markdown",
   "id": "dd664531-0d18-4c03-83d3-6b4947e21779",
   "metadata": {},
   "source": [
    "### train the model"
   ]
  },
  {
   "cell_type": "code",
   "execution_count": 7,
   "id": "4b9c196a-64e6-4fd9-834c-55b06e31058f",
   "metadata": {},
   "outputs": [
    {
     "name": "stderr",
     "output_type": "stream",
     "text": [
      "training:   0%|                                           | 0/5 [00:00<?, ?it/s]"
     ]
    },
    {
     "name": "stdout",
     "output_type": "stream",
     "text": [
      "the training is started\n",
      "model training loss is :  1.96864 | model accuracy: 12.5\n",
      "model training loss is :  1.99541 | model accuracy: 12.5\n"
     ]
    },
    {
     "name": "stderr",
     "output_type": "stream",
     "text": [
      "training:  40%|██████████████                     | 2/5 [00:00<00:01,  2.44it/s]"
     ]
    },
    {
     "name": "stdout",
     "output_type": "stream",
     "text": [
      "model training loss is :  1.12266 | model accuracy: 68.75\n"
     ]
    },
    {
     "name": "stderr",
     "output_type": "stream",
     "text": [
      "training:  60%|█████████████████████              | 3/5 [00:01<00:01,  1.74it/s]"
     ]
    },
    {
     "name": "stdout",
     "output_type": "stream",
     "text": [
      "model training loss is :  0.12576 | model accuracy: 100.0\n"
     ]
    },
    {
     "name": "stderr",
     "output_type": "stream",
     "text": [
      "training:  80%|████████████████████████████       | 4/5 [00:02<00:00,  1.55it/s]"
     ]
    },
    {
     "name": "stdout",
     "output_type": "stream",
     "text": [
      "model training loss is :  0.02160 | model accuracy: 100.0\n"
     ]
    },
    {
     "name": "stderr",
     "output_type": "stream",
     "text": [
      "training: 100%|███████████████████████████████████| 5/5 [00:03<00:00,  1.36it/s]"
     ]
    },
    {
     "name": "stdout",
     "output_type": "stream",
     "text": [
      "model training loss is :  0.00974 | model accuracy: 100.0\n"
     ]
    },
    {
     "name": "stderr",
     "output_type": "stream",
     "text": [
      "training: 6it [00:04,  1.28it/s]                                                "
     ]
    },
    {
     "name": "stdout",
     "output_type": "stream",
     "text": [
      "total training time : 4.173328367003705 sec\n"
     ]
    }
   ],
   "source": [
    "torch.manual_seed(42)\n",
    "startime = timer()\n",
    "prnt = True\n",
    "bar = tqdm( total = int(epochs//100) , desc = \"training\")\n",
    "print(\"the training is started\")\n",
    "for epoch in range(epochs+1) : \n",
    "    train_fn(model=model_1, data_loader = train_dataLoader, optimizer=optimizer,\n",
    "             loss_fn=loss_fn, accuracy_fn= accuracy_fn, device=device , prnt=prnt)\n",
    "    if (epoch%100 == 0 ) | (epoch == 1000):\n",
    "        bar.update(1)\n",
    "        prnt = True\n",
    "    else:\n",
    "        prnt = False\n",
    "\n",
    "endtime =timer()\n",
    "print(f\"total training time : {endtime-startime} sec\")"
   ]
  },
  {
   "cell_type": "code",
   "execution_count": 8,
   "id": "41a79e14-220d-4b59-adb7-976f051cdbd0",
   "metadata": {},
   "outputs": [],
   "source": [
    "import mlxtend , torchmetrics\n",
    "from torchmetrics import ConfusionMatrix\n",
    "from mlxtend.plotting import plot_confusion_matrix\n"
   ]
  },
  {
   "cell_type": "code",
   "execution_count": 9,
   "id": "0b55d72b-8407-44c8-b145-bb50b843bd41",
   "metadata": {},
   "outputs": [
    {
     "name": "stdout",
     "output_type": "stream",
     "text": [
      "torch.Size([52])\n"
     ]
    }
   ],
   "source": [
    "import random\n",
    "sentSamples , sentSampleLabels = [] , []\n",
    "for sample , label  in random.sample(list(train_dataset) , k = 18) : # k number of samples\n",
    "    sentSamples.append(sample) \n",
    "    sentSampleLabels.append(label) \n",
    "\n",
    "print( sentSamples[0].shape)\n"
   ]
  },
  {
   "cell_type": "markdown",
   "id": "40bf379b-e7a5-490e-b994-84a8ec863eeb",
   "metadata": {},
   "source": [
    "### get the prediction data"
   ]
  },
  {
   "cell_type": "code",
   "execution_count": null,
   "id": "39eb1d81-9f2c-4144-8ecf-5cdb8fe1b433",
   "metadata": {},
   "outputs": [],
   "source": []
  },
  {
   "cell_type": "code",
   "execution_count": 10,
   "id": "621e2a5c-3b29-46b9-acaa-30866dae6236",
   "metadata": {},
   "outputs": [
    {
     "data": {
      "text/plain": [
       "(tensor(5),\n",
       " tensor([-7.1140, -2.4405, -2.0827, -1.4285, -1.8031,  4.6847, -6.3561]))"
      ]
     },
     "execution_count": 10,
     "metadata": {},
     "output_type": "execute_result"
    }
   ],
   "source": [
    "predictionProb = []\n",
    "\n",
    "model_1.eval()\n",
    "with torch.inference_mode():\n",
    "   for sample in sentSamples : \n",
    "       pred_out = model_1(sample)\n",
    "       # predictionPr1 = torch.softmax(pred_out)\n",
    "       predictionProb.append(pred_out)\n",
    "pred_result = torch.stack(predictionProb)\n",
    "predClasses = pred_result.argmax(dim =1)\n",
    "\n",
    "predClasses[0] ,predictionProb [0]\n",
    "    "
   ]
  },
  {
   "cell_type": "code",
   "execution_count": 11,
   "id": "121f2aec-bc39-449e-85e3-136bb143eb05",
   "metadata": {},
   "outputs": [],
   "source": [
    "# setup the ConfusionMatrix\n",
    "confMat = ConfusionMatrix(num_classes=out_feature, task='multiclass') \n",
    "confMatTensor = confMat(preds = pred_result , target = torch.tensor(sentSampleLabels))"
   ]
  },
  {
   "cell_type": "code",
   "execution_count": 12,
   "id": "28de9b71-02f2-4af8-b184-42e169d27d41",
   "metadata": {},
   "outputs": [
    {
     "data": {
      "image/png": "[encoded data removed]",
      "text/plain": [
       "<Figure size 700x700 with 1 Axes>"
      ]
     },
     "metadata": {},
     "output_type": "display_data"
    }
   ],
   "source": [
    "fig , ax = plot_confusion_matrix(\n",
    "            conf_mat=confMatTensor.numpy(),\n",
    "            class_names=classNames , cmap=\"coolwarm\", \n",
    "            figsize= (7,7) )"
   ]
  },
  {
   "cell_type": "code",
   "execution_count": null,
   "id": "b9f54b60-c6c2-4268-a9ae-fadd90bdd13a",
   "metadata": {},
   "outputs": [],
   "source": []
  }
 ],
 "metadata": {
  "kernelspec": {
   "display_name": "Python 3 (ipykernel)",
   "language": "python",
   "name": "python3"
  },
  "language_info": {
   "codemirror_mode": {
    "name": "ipython",
    "version": 3
   },
   "file_extension": ".py",
   "mimetype": "text/x-python",
   "name": "python",
   "nbconvert_exporter": "python",
   "pygments_lexer": "ipython3",
   "version": "3.12.3"
  }
 },
 "nbformat": 4,
 "nbformat_minor": 5
}
