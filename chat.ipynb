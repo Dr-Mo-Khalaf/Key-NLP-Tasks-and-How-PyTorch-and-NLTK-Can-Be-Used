{
 "cells": [
  {
   "cell_type": "code",
   "execution_count": null,
   "id": "85452bd2-7374-4a7c-a577-ca9c07564b65",
   "metadata": {},
   "outputs": [],
   "source": []
  },
  {
   "cell_type": "code",
   "execution_count": 42,
   "id": "b8f372b4-a7c2-46a8-a85b-1cb17874c6be",
   "metadata": {},
   "outputs": [
    {
     "name": "stderr",
     "output_type": "stream",
     "text": [
      "[nltk_data] Downloading package punkt to /home/mkh/nltk_data...\n",
      "[nltk_data]   Package punkt is already up-to-date!\n",
      "[nltk_data] Downloading package punkt_tab to /home/mkh/nltk_data...\n",
      "[nltk_data]   Package punkt_tab is already up-to-date!\n"
     ]
    }
   ],
   "source": [
    "import numpy as np\n",
    "import nltk\n",
    "nltk.download('punkt') # Download the Punkt sentence tokenizer\n",
    "nltk.data.path.append('/ /home/mkh/nltk_data')\n",
    "\n",
    "from nltk.stem.porter import PorterStemmer"
   ]
  },
  {
   "cell_type": "code",
   "execution_count": 43,
   "id": "c7febdc7-3300-4859-bcd3-afc2417b4555",
   "metadata": {},
   "outputs": [
    {
     "name": "stdout",
     "output_type": "stream",
     "text": [
      "3.9.1\n"
     ]
    }
   ],
   "source": [
    "print(nltk.__version__)"
   ]
  },
  {
   "cell_type": "code",
   "execution_count": 44,
   "id": "c940c3d6-d51e-49b3-89d6-196611a53b64",
   "metadata": {},
   "outputs": [],
   "source": [
    "## text ---> tokenization  -->stemming --> bag of words  --> model"
   ]
  },
  {
   "cell_type": "code",
   "execution_count": 45,
   "id": "dadf37ee-65d8-43ed-bbbb-2112a920f0a8",
   "metadata": {},
   "outputs": [],
   "source": [
    "stemmer = PorterStemmer() # to find the root of the words\n",
    "# playing , played, playes --> [ 'play' , 'play' , 'play' ]\n",
    "#[\"organization\" , \"organizer\" , \"organizing\" ] ---> [\"organ\" , \"organ\", \"organ\"] "
   ]
  },
  {
   "cell_type": "raw",
   "id": "5311279f-0c60-4a80-8ff7-d0c72ce80768",
   "metadata": {},
   "source": [
    "<img src=\"fig-1.jpg\" >"
   ]
  },
  {
   "cell_type": "code",
   "execution_count": 46,
   "id": "a6d8dae5-da33-4091-8673-137c4117b2f5",
   "metadata": {},
   "outputs": [],
   "source": [
    "\n"
   ]
  },
  {
   "cell_type": "code",
   "execution_count": 51,
   "id": "c4a5caaf-aeec-4929-8520-3d8b6a1abc8c",
   "metadata": {},
   "outputs": [],
   "source": [
    "text = \"It really does not matter how good/hard woking you are at your job . Only how good/hard working the boss thinks you are. \" "
   ]
  },
  {
   "cell_type": "code",
   "execution_count": 55,
   "id": "0ade83ba-73c5-4eae-b67f-79d310239a0d",
   "metadata": {},
   "outputs": [
    {
     "data": {
      "text/plain": [
       "['It',\n",
       " 'really',\n",
       " 'does',\n",
       " 'not',\n",
       " 'matter',\n",
       " 'how',\n",
       " 'good/hard',\n",
       " 'woking',\n",
       " 'you',\n",
       " 'are',\n",
       " 'at',\n",
       " 'your',\n",
       " 'job',\n",
       " '.',\n",
       " 'Only',\n",
       " 'how',\n",
       " 'good/hard',\n",
       " 'working',\n",
       " 'the',\n",
       " 'boss',\n",
       " 'thinks',\n",
       " 'you',\n",
       " 'are',\n",
       " '.']"
      ]
     },
     "execution_count": 55,
     "metadata": {},
     "output_type": "execute_result"
    }
   ],
   "source": [
    "words = tokenize_fn(text)\n",
    "words"
   ]
  },
  {
   "cell_type": "code",
   "execution_count": 56,
   "id": "cddbcda5-7b25-45a8-8965-0b75f3e6a194",
   "metadata": {},
   "outputs": [],
   "source": []
  },
  {
   "cell_type": "code",
   "execution_count": 59,
   "id": "18e26aaa-23b7-4c32-af8f-e93d9f050817",
   "metadata": {},
   "outputs": [
    {
     "data": {
      "text/plain": [
       "['it',\n",
       " 'realli',\n",
       " 'doe',\n",
       " 'not',\n",
       " 'matter',\n",
       " 'how',\n",
       " 'good/hard',\n",
       " 'woke',\n",
       " 'you',\n",
       " 'are',\n",
       " 'at',\n",
       " 'your',\n",
       " 'job',\n",
       " '.',\n",
       " 'onli',\n",
       " 'how',\n",
       " 'good/hard',\n",
       " 'work',\n",
       " 'the',\n",
       " 'boss',\n",
       " 'think',\n",
       " 'you',\n",
       " 'are',\n",
       " '.']"
      ]
     },
     "execution_count": 59,
     "metadata": {},
     "output_type": "execute_result"
    }
   ],
   "source": [
    "stemming_out = [stem_fn(word) for word in words ]\n",
    "stemming_out"
   ]
  },
  {
   "cell_type": "code",
   "execution_count": 64,
   "id": "355f50bb-c6de-42f3-b3c8-e6758264b451",
   "metadata": {},
   "outputs": [
    {
     "name": "stdout",
     "output_type": "stream",
     "text": [
      "List x : \t List y:\n",
      "It \t it\n",
      "really \t realli\n",
      "does \t doe\n",
      "not \t not\n",
      "matter \t matter\n",
      "how \t how\n",
      "good/hard \t good/hard\n",
      "woking \t woke\n",
      "you \t you\n",
      "are \t are\n",
      "at \t at\n",
      "your \t your\n",
      "job \t job\n",
      ". \t .\n",
      "Only \t onli\n",
      "how \t how\n",
      "good/hard \t good/hard\n",
      "working \t work\n",
      "the \t the\n",
      "boss \t boss\n",
      "thinks \t think\n",
      "you \t you\n",
      "are \t are\n",
      ". \t .\n"
     ]
    }
   ],
   "source": [
    "print(\"List x : \\t List y:\")\n",
    "for i in range(max(len(words), len(stemming_out))):\n",
    "    print(f\"{words[i] } \\t {stemming_out[i]}\")"
   ]
  },
  {
   "cell_type": "code",
   "execution_count": null,
   "id": "1928ac9a-b341-433f-a1bc-1283e98cefed",
   "metadata": {},
   "outputs": [],
   "source": []
  }
 ],
 "metadata": {
  "kernelspec": {
   "display_name": "Python 3 (ipykernel)",
   "language": "python",
   "name": "python3"
  },
  "language_info": {
   "codemirror_mode": {
    "name": "ipython",
    "version": 3
   },
   "file_extension": ".py",
   "mimetype": "text/x-python",
   "name": "python",
   "nbconvert_exporter": "python",
   "pygments_lexer": "ipython3",
   "version": "3.12.3"
  }
 },
 "nbformat": 4,
 "nbformat_minor": 5
}
